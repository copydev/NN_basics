{
 "cells": [
  {
   "cell_type": "code",
   "execution_count": 2,
   "metadata": {},
   "outputs": [],
   "source": [
    "import numpy as np"
   ]
  },
  {
   "cell_type": "code",
   "execution_count": 3,
   "metadata": {},
   "outputs": [],
   "source": [
    "input_size = 3\n",
    "layers = [4,3]\n",
    "output_size = 2"
   ]
  },
  {
   "cell_type": "code",
   "execution_count": 6,
   "metadata": {},
   "outputs": [],
   "source": [
    "def softmax(a):\n",
    "    e_pa = np.exp(a)\n",
    "    print(e_pa)\n",
    "    total = np.sum(e_pa,axis = 0,keepdims=True)\n",
    "    print(a.shape)\n",
    "    ans = e_pa/total\n",
    "    \n",
    "    print(ans)\n",
    "    "
   ]
  },
  {
   "cell_type": "code",
   "execution_count": 7,
   "metadata": {},
   "outputs": [
    {
     "name": "stdout",
     "output_type": "stream",
     "text": [
      "[[2.20264658e+04 4.85165195e+08]\n",
      " [2.20264658e+04 4.85165195e+08]]\n",
      "(2, 2)\n",
      "[[0.5 0.5]\n",
      " [0.5 0.5]]\n"
     ]
    }
   ],
   "source": [
    "arr = np.array([[10,20],[10,20]])\n",
    "softmax(arr)"
   ]
  },
  {
   "cell_type": "code",
   "execution_count": 8,
   "metadata": {},
   "outputs": [],
   "source": [
    "class NeuralNetwork:\n",
    "    \n",
    "    def __init__(self,input_size,layers,output_size):\n",
    "        np.random.seed(0)\n",
    "        \n",
    "        model = {}\n",
    "        \n",
    "        model[\"w1\"] = np.random.rand(layers[0],input_size)\n",
    "        model[\"b1\"] = np.zeros((layers[0],1))\n",
    "        \n",
    "        model[\"w2\"] = np.random.rand(layers[1],layers[0])\n",
    "        model[\"b2\"] = np.zeros((layers[1],1))\n",
    "        \n",
    "        model[\"w3\"] = np.random.rand(output_size,layers[1])\n",
    "        model[\"b3\"] = np.zeros((output_size,1))\n",
    "        \n",
    "    def forward(self, X):\n",
    "        w1 = self.model[\"w1\"]\n",
    "        b1 = self.model[\"b1\"]\n",
    "        \n",
    "        z1 = np.dot(w1,X) + b1\n",
    "        a1 = np.tanh(z1)\n",
    "        \n",
    "        w2 = self.model[\"w2\"]\n",
    "        b2 = self.model[\"b2\"]\n",
    "        \n",
    "        z2 = np.dot(w2,a1) + b2\n",
    "        a2 = np.tanh(z2)\n",
    "        \n",
    "        w3 = self.model[\"w3\"]\n",
    "        b3 = self.model[\"b3\"]\n",
    "        \n",
    "        z3 = np.dot(w3,a2) + b3\n",
    "        y_ = softmax(z3)\n",
    "        \n",
    "        return y_\n",
    "        \n",
    "        "
   ]
  },
  {
   "cell_type": "code",
   "execution_count": null,
   "metadata": {},
   "outputs": [],
   "source": []
  }
 ],
 "metadata": {
  "kernelspec": {
   "display_name": "Python 3",
   "language": "python",
   "name": "python3"
  },
  "language_info": {
   "codemirror_mode": {
    "name": "ipython",
    "version": 3
   },
   "file_extension": ".py",
   "mimetype": "text/x-python",
   "name": "python",
   "nbconvert_exporter": "python",
   "pygments_lexer": "ipython3",
   "version": "3.7.3"
  }
 },
 "nbformat": 4,
 "nbformat_minor": 2
}
